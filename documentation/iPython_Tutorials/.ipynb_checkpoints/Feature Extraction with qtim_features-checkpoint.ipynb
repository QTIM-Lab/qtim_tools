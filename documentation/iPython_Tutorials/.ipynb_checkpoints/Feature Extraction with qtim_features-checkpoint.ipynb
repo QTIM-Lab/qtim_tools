{
 "cells": [
  {
   "cell_type": "markdown",
   "metadata": {},
   "source": [
    "# Lung CT Feature Extraction Using Python and qtim_features\n",
    "\n",
    "Welcome! This tutorial will walk you through the process of extracting a few statistical, morphological, and textural features from pre-segmented lungs in a large dataset of Lung CT scans. We will be using a Python package developed by the Quantitative Tumor Imaging Lab at MGH called \"qtim_tools\".\n",
    "\n",
    "We will first test the feature extraction toolkit on some digitally-generated \"phantom\" images, where we know what values to expect. We will then extract some features from some actual Lung CT data, to show what these feature values look like in practice."
   ]
  },
  {
   "cell_type": "markdown",
   "metadata": {},
   "source": [
    "### Importing qtim_tools\n",
    "\n",
    "Our first step is to import the qtim_tools package. Ths first line will use the pip package installer to locally install a version of qtim_tools. The second line will will make that package available to you in your local environment for the rest of this tutorial."
   ]
  },
  {
   "cell_type": "code",
   "execution_count": null,
   "metadata": {
    "collapsed": false
   },
   "outputs": [],
   "source": [
    "!pip install qtim_tools\n",
    "\n",
    "import qtim_tools.qtim_features as qtim_features"
   ]
  },
  {
   "cell_type": "markdown",
   "metadata": {},
   "source": [
    "### Calculating morphology (size) features on phantom data\n",
    "\n",
    "Some of the most simple features to calculate are size and shape features. These include volume, surface area, and spherical disproportion. We're going to load a few sample datasets and extract morphology features from them to get a sense for how these features vary.\n",
    "\n",
    "We are first going to load an extremely basic dataset: a series of white squares of different sizes.\n",
    "\n",
    "<img src=\"./Example_Images/Intensity_Phantom.png\">\n",
    "\n",
    "We are then going to use the qtim_features packages to extract some simple morphology features."
   ]
  },
  {
   "cell_type": "code",
   "execution_count": null,
   "metadata": {
    "collapsed": true
   },
   "outputs": [],
   "source": [
    "size_squares_filepath = qtim_features.phantoms.get_phantom_filepath('size_square')\n",
    "\n",
    "qtim_features.generate_feature_list_batch(size_squares_filepath, features=['morphology'], outfile='square_intensity_phantom.csv', labels=True)"
   ]
  },
  {
   "cell_type": "markdown",
   "metadata": {},
   "source": [
    "You will see a spreadsheet file titled \"square-intensity_phantom.csv\" in your current directory. You can change the outfile parameter to specify a different file destination. It will list a few size and morphology features. Larger squares (e.g. \"Size_9_Phantom\" should have a greater volume than smaller squares (\"Size_0_Phantom\"). You might notice other features, such as the surface area to volume ratio slowly decreasing as the phantom squares get larger."
   ]
  },
  {
   "cell_type": "markdown",
   "metadata": {},
   "source": [
    "### Calculating morphology (shape) features on phantom MRI data\n",
    "\n",
    "That was just a quick check to make sure your package is working, and to show some basic dynamics of morphology feature changes over progressively larger volumes. We're now going to look at some sample brain MRI data with differently-shaped labels to see how these shape and size features change in practice.\n",
    "\n",
    "<img src=\"./Example_Images/Shape_MRI.png\">\n",
    "\n",
    "We'll use the same code as before, but this time we'll load a different phantom."
   ]
  },
  {
   "cell_type": "code",
   "execution_count": null,
   "metadata": {
    "collapsed": true
   },
   "outputs": [],
   "source": [
    "intensity_squares_filepath = qtim_features.phantoms.get_phantom_filepath('shape_mri')\n",
    "\n",
    "qtim_features.generate_feature_list_batch(intensity_squares_filepath, features=['morphology'], outfile='square_intensity_phantom.csv', labels=True)"
   ]
  }
 ],
 "metadata": {
  "kernelspec": {
   "display_name": "Python 2",
   "language": "python",
   "name": "python2"
  },
  "language_info": {
   "codemirror_mode": {
    "name": "ipython",
    "version": 2
   },
   "file_extension": ".py",
   "mimetype": "text/x-python",
   "name": "python",
   "nbconvert_exporter": "python",
   "pygments_lexer": "ipython2",
   "version": "2.7.12"
  }
 },
 "nbformat": 4,
 "nbformat_minor": 0
}

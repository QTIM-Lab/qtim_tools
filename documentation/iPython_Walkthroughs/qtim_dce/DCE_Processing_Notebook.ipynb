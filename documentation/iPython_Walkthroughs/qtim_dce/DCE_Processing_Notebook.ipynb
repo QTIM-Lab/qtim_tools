{
 "cells": [
  {
   "cell_type": "markdown",
   "metadata": {},
   "source": [
    "# Welcome to the QTIM DCE Processing Notebook!\n",
    "\n",
    "Our goal is to show you how you can use qtim_tools' DCE processing module to process your data, and discuss some of the methods we use to do our processing. This first section will be a usage tutorial based on the QIBA tofts phantom data located at  https://sites.duke.edu/dblab/qibacontent/."
   ]
  },
  {
   "cell_type": "markdown",
   "metadata": {},
   "source": [
    "## Usage Tutorial\n",
    "\n",
    "The qtim_tools library is a python package with many submodules, each devoted to a particular area of interest at the Quantiative Tumor Imaging Lab at the Martinos Center (MGH/HST). You can install the latest version of qtim_tools with the Python package manager pip, using the command \"pip install qtim_tools\". You can also clone this GitHub repository and run the command \"python setup.py install\" from the repository's base directory."
   ]
  },
  {
   "cell_type": "markdown",
   "metadata": {},
   "source": [
    "We'll start by loading some test data. Our first test case will use a digitally-created DCE-MRI phantom. This phantom, courtesy of the Quantitative Imaging Biomarkers Alliance (QIBA) is meant to simulate a range of combinations of ktrans and ve values with a high level of noise. The input data looks like similar to the images below. A ticker keeps track of timepoint in seconds in the upper-left-hand corner, and an area from which to extract an arterial input function is located in the bottom 10 rows. You can find more information about the QIBA_tofts_v9 phantom at this page: https://sites.duke.edu/dblab/qibacontent/.\n",
    "\n",
    "![QIBA Phantom Input](QIBA_Phantom_Input.PNG)\n",
    "\n",
    "The resulting ktrans and ve maps should look similar to the maps below, assuming there had been no noise.\n",
    "\n",
    "![QIBA Phantom Expected Results](QIBA_Phantom_Expected_Results.png)\n",
    "\n",
    "As of now, the qtim_dce library is only configured to work with Nifti files. If you have a 4D (or 3D) DCE-MRI Nifti file on-hand, you can replace the variable test_file below with your own filepath. Otherwise, you can use qtim_tools data iporter to load this particular test case.\n"
   ]
  },
  {
   "cell_type": "code",
   "execution_count": 1,
   "metadata": {
    "collapsed": false
   },
   "outputs": [
    {
     "name": "stdout",
     "output_type": "stream",
     "text": [
      "Test File Loaded: c:\\users\\abeers\\documents\\github\\public_qtim\\qtim_tools\\qtim_tools\\test_data\\test_data_dce\\tofts_v9.nii.gz\n"
     ]
    }
   ],
   "source": [
    "from qtim_tools.test_data import load_test_file\n",
    "\n",
    "# test_file = \"your_file_here.nii.gz\"\n",
    "test_file = load_test_file(data=\"dce_tofts_v9\")\n",
    "print 'Test File Loaded: ' + test_file"
   ]
  },
  {
   "cell_type": "markdown",
   "metadata": {},
   "source": [
    "The submodule most important to us in this tutorial is the \"qtim_dce\" submodule. For now, there is only one important submodule in qtim_dce. This is the tofts_parametric_mapper submodule, which use the Tofts-Kermode model to create ktrans, ve, and area-under-the-curve maps for a give 3D or 4D temporal image. We can import it using the piece of code below."
   ]
  },
  {
   "cell_type": "code",
   "execution_count": 2,
   "metadata": {
    "collapsed": true
   },
   "outputs": [],
   "source": [
    "from qtim_tools.qtim_dce import tofts_parametric_mapper"
   ]
  },
  {
   "cell_type": "markdown",
   "metadata": {},
   "source": [
    "DCE parametric maps -- especially those calculated by the Tofts model -- are very sensitive to input parameters such as TR (Recovery Time), TE (Echo Time), assumed T1 measurements in normal tissue, relaxivity of the provided contrast agent, and especially the provided arterial input function (AIF). The tofts_parametric_mapper function lets you specify all of these values in the parameters below.\n",
    "\n",
    "Much of this data will be contained in DICOM headers for your own data, if available. Below are input parameters suited to the breast test data loaded above.\n"
   ]
  },
  {
   "cell_type": "code",
   "execution_count": 3,
   "metadata": {
    "collapsed": true
   },
   "outputs": [],
   "source": [
    "# Input Parameters\n",
    "T1_tissue=1000\n",
    "T1_blood=1440\n",
    "relaxivity=.0045\n",
    "TR=5\n",
    "TE=2.1 \n",
    "scan_time_seconds=(6*60) \n",
    "hematocrit=0.45\n",
    "injection_start_time_seconds=60 \n",
    "flip_angle_degrees=30"
   ]
  },
  {
   "cell_type": "markdown",
   "metadata": {},
   "source": [
    "You may also want to input a label file that specifies a particular region of interest to calculate your parametric map in. Map calculation can be time-consuming in Python, especially without pre-specified parallel processing, and so localizing your calculation to pre-defind region of interest may make your processing go faster.\n"
   ]
  },
  {
   "cell_type": "code",
   "execution_count": 4,
   "metadata": {
    "collapsed": false
   },
   "outputs": [
    {
     "name": "stdout",
     "output_type": "stream",
     "text": [
      "Loaded test label: c:\\users\\abeers\\documents\\github\\public_qtim\\qtim_tools\\qtim_tools\\test_data\\test_data_dce\\tofts_v9-label.nii.gz\n"
     ]
    }
   ],
   "source": [
    "test_file_label = load_test_file(data=\"dce_tofts_v9_label\")\n",
    "print 'Loaded test label: ' + test_file_label\n",
    "\n",
    "# Label File Parameters\n",
    "label_file=test_file_label"
   ]
  },
  {
   "cell_type": "markdown",
   "metadata": {},
   "source": [
    "We provide support for extracting average arterial input functions from registered nifti label files. We also provide support for loading loading arterial input functions from text files, with sequential intensity values interrupted by semi-colons (\";\"). Finally we provide support for generating a population-level AIF based on the Parker model (citation). Adjust the parameters below for your specific case, or use the AIF label that we provide for the phantom data."
   ]
  },
  {
   "cell_type": "code",
   "execution_count": 5,
   "metadata": {
    "collapsed": false
   },
   "outputs": [
    {
     "name": "stdout",
     "output_type": "stream",
     "text": [
      "Loaded test AIF: c:\\users\\abeers\\documents\\github\\public_qtim\\qtim_tools\\qtim_tools\\test_data\\test_data_dce\\tofts_v9-AIF-label.nii.gz\n"
     ]
    }
   ],
   "source": [
    "test_file_AIF = load_test_file(data=\"dce_tofts_v9_aif\")\n",
    "print 'Loaded test AIF: ' + test_file_AIF\n",
    "\n",
    "# AIF Parameters\n",
    "AIF_label_file=test_file_AIF\n",
    "AIF_text_file=[]\n",
    "AIF_mode=\"label\" # options: population, label, textfile"
   ]
  },
  {
   "cell_type": "markdown",
   "metadata": {},
   "source": [
    "If you want to provide a T1 map for your data, change the T1_map_file parameter below to your filepath. This will overwrite the provided options for T1_tissue and T1_blood in the previous steps. Our example data will not use a T1 map, so we leave this parameter blank."
   ]
  },
  {
   "cell_type": "code",
   "execution_count": 6,
   "metadata": {
    "collapsed": true
   },
   "outputs": [],
   "source": [
    "# T1 Map Parameters\n",
    "T1_map_file=[]"
   ]
  },
  {
   "cell_type": "markdown",
   "metadata": {},
   "source": [
    "Finally, you should specify how many CPU processors you want your machine to use. Currently, Windows 10 seems to have issues with our particular method of parallelization; in that case, you can disable parallel processing by settting processors to 1.\n",
    "\n",
    "You should also set an output prefix to where you want to save your file. Output files will take the form \"[prefix]ktrans.nii.gz\", \"[prefix]ve.nii.gz\", and \"[prefix]auc.nii.gz\""
   ]
  },
  {
   "cell_type": "code",
   "execution_count": 7,
   "metadata": {
    "collapsed": true
   },
   "outputs": [],
   "source": [
    "# Output and Processing Parameters.\n",
    "processes = 1;\n",
    "output_filepath_prefix = \"./Example_tofts_v9_\""
   ]
  },
  {
   "cell_type": "markdown",
   "metadata": {},
   "source": [
    "Finally, run the tofts_parametric_mapper command with all of the variables we've pre-defined. You should see output with constant updates as the function works through your provided file."
   ]
  },
  {
   "cell_type": "code",
   "execution_count": 8,
   "metadata": {
    "collapsed": false
   },
   "outputs": [
    {
     "ename": "AttributeError",
     "evalue": "'module' object has no attribute 'execute'",
     "output_type": "error",
     "traceback": [
      "\u001b[0;31m---------------------------------------------------------------------------\u001b[0m",
      "\u001b[0;31mAttributeError\u001b[0m                            Traceback (most recent call last)",
      "\u001b[0;32m<ipython-input-8-d933b77caa9d>\u001b[0m in \u001b[0;36m<module>\u001b[0;34m()\u001b[0m\n\u001b[0;32m----> 1\u001b[0;31m tofts_parametric_mapper.execute(input_filepath=test_file,\n\u001b[0m\u001b[1;32m      2\u001b[0m \u001b[0mT1_tissue\u001b[0m\u001b[1;33m=\u001b[0m\u001b[0mT1_tissue\u001b[0m\u001b[1;33m,\u001b[0m\u001b[1;33m\u001b[0m\u001b[0m\n\u001b[1;32m      3\u001b[0m \u001b[0mT1_blood\u001b[0m\u001b[1;33m=\u001b[0m\u001b[0mT1_blood\u001b[0m\u001b[1;33m,\u001b[0m\u001b[1;33m\u001b[0m\u001b[0m\n\u001b[1;32m      4\u001b[0m \u001b[0mrelaxivity\u001b[0m\u001b[1;33m=\u001b[0m\u001b[0mrelaxivity\u001b[0m\u001b[1;33m,\u001b[0m\u001b[1;33m\u001b[0m\u001b[0m\n\u001b[1;32m      5\u001b[0m \u001b[0mTR\u001b[0m\u001b[1;33m=\u001b[0m\u001b[0mTR\u001b[0m\u001b[1;33m,\u001b[0m\u001b[1;33m\u001b[0m\u001b[0m\n",
      "\u001b[0;31mAttributeError\u001b[0m: 'module' object has no attribute 'execute'"
     ]
    }
   ],
   "source": [
    "tofts_parametric_mapper.execute(input_filepath=test_file,\n",
    "T1_tissue=T1_tissue,\n",
    "T1_blood=T1_blood,\n",
    "relaxivity=relaxivity,\n",
    "TR=TR, \n",
    "TE=TE, \n",
    "scan_time_seconds=scan_time_seconds, \n",
    "hematocrit=hematocrit, \n",
    "injection_start_time_seconds=injection_start_time_seconds, \n",
    "flip_angle_degrees=flip_angle_degrees, \n",
    "label_file=test_file_label,\n",
    "T1_map_file=T1_map_file,\n",
    "AIF_label_file=AIF_label_file,\n",
    "AIF_text_file=AIF_text_file,\n",
    "AIF_mode=AIF_mode,\n",
    "outfile_prefix=output_filepath_prefix, \n",
    "processes=processes)"
   ]
  },
  {
   "cell_type": "markdown",
   "metadata": {
    "collapsed": true
   },
   "source": [
    "Let's check out the results to see if they matched what we expected. We're going to use the qtim_utilities submodule to quickly load nifti files into numpy arrays, and check them out using matplotlib. If you are interested in manipulating nifti arrays in python, you should also turn to the python package nibabel (http://nipy.org/nibabel/).\n",
    "\n",
    "We'll first import the results using nifti_2_numpy."
   ]
  },
  {
   "cell_type": "code",
   "execution_count": 9,
   "metadata": {
    "collapsed": false
   },
   "outputs": [],
   "source": [
    "from qtim_tools.qtim_utilities.nifti_util import nifti_2_numpy\n",
    "\n",
    "ktrans_array_data = nifti_2_numpy(output_filepath_prefix + 'ktrans.nii.gz')\n",
    "ve_array_data = nifti_2_numpy(output_filepath_prefix + 've.nii.gz')\n",
    "auc_array_data = nifti_2_numpy(output_filepath_prefix + 'auc.nii.gz')"
   ]
  },
  {
   "cell_type": "markdown",
   "metadata": {},
   "source": [
    "We'll then visualize it using matplotlib."
   ]
  },
  {
   "cell_type": "code",
   "execution_count": 10,
   "metadata": {
    "collapsed": false
   },
   "outputs": [
    {
     "data": {
      "image/png": "[encoded data removed]",
      "text/plain": [
       "<matplotlib.figure.Figure at 0xaadff28>"
      ]
     },
     "metadata": {},
     "output_type": "display_data"
    }
   ],
   "source": [
    "%matplotlib inline\n",
    "import matplotlib.pyplot as plt\n",
    "import numpy as np\n",
    "\n",
    "fig = plt.figure()\n",
    "a=fig.add_subplot(1,2,1)\n",
    "imgplot = plt.imshow(ktrans_array_data.T, interpolation='none', aspect='auto', vmin=0, vmax=.5)\n",
    "a=fig.add_subplot(1,2,2)\n",
    "imgplot = plt.imshow(ve_array_data.T, interpolation='none', aspect='auto', vmin=0, vmax=1)\n",
    "plt.show()"
   ]
  },
  {
   "cell_type": "markdown",
   "metadata": {},
   "source": [
    "Not bad! While qtim_tools achieve perfect accuracy on noiseless phantom data, some variation can be expected in noisy data -- especially at low ktrans and high ve values. qtim_tools has recently had the best performance across a multi-institution competition on noisy DCE data, but difficult-to-fit data will remain. Apply your own pre-processing methods as necessary, and make sure you have correctly set all of the required DCE parameters."
   ]
  }
 ],
 "metadata": {
  "anaconda-cloud": {},
  "kernelspec": {
   "display_name": "Python [default]",
   "language": "python",
   "name": "python2"
  },
  "language_info": {
   "codemirror_mode": {
    "name": "ipython",
    "version": 2
   },
   "file_extension": ".py",
   "mimetype": "text/x-python",
   "name": "python",
   "nbconvert_exporter": "python",
   "pygments_lexer": "ipython2",
   "version": "2.7.12"
  }
 },
 "nbformat": 4,
 "nbformat_minor": 1
}
